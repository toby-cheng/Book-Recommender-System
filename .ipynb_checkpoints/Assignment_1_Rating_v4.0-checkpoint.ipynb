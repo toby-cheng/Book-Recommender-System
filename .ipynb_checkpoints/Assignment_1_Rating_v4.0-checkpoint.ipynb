{
 "cells": [
  {
   "cell_type": "markdown",
   "metadata": {},
   "source": [
    "# CSE 258 Assignment 1 Rating\n",
    "**Ming Ki Toby Cheng**"
   ]
  },
  {
   "cell_type": "code",
   "execution_count": 49,
   "metadata": {},
   "outputs": [],
   "source": [
    "import gzip\n",
    "from collections import defaultdict\n",
    "import scipy\n",
    "import scipy.optimize\n",
    "from sklearn import linear_model\n",
    "import numpy\n",
    "import random\n",
    "import matplotlib.pyplot as plt"
   ]
  },
  {
   "cell_type": "code",
   "execution_count": 50,
   "metadata": {},
   "outputs": [],
   "source": [
    "def readGz(path):\n",
    "    for l in gzip.open(path, \"rt\"):\n",
    "        yield eval(l)\n",
    "\n",
    "\n",
    "def readCSV(path):\n",
    "    f = gzip.open(path, \"rt\")\n",
    "    f.readline()\n",
    "    for l in f:\n",
    "        yield l.strip().split(\",\")"
   ]
  },
  {
   "cell_type": "code",
   "execution_count": 51,
   "metadata": {},
   "outputs": [],
   "source": [
    "# Defining predictor function\n",
    "def prediction(user, book):\n",
    "    if user not in userBias and book in bookBias:\n",
    "        return alpha + bookBias[book]\n",
    "    if user in userBias and book not in bookBias:\n",
    "        return alpha + userBias[user]\n",
    "    if user not in userBias and book not in bookBias:\n",
    "        return alpha\n",
    "    if user in userBias and book in bookBias:\n",
    "        return alpha + userBias[user] + bookBias[book]"
   ]
  },
  {
   "cell_type": "code",
   "execution_count": 52,
   "metadata": {},
   "outputs": [],
   "source": [
    "# Defining MSE function\n",
    "def MSE(predictions, labels):\n",
    "    differences = [(x-y)**2 for x,y in zip(predictions,labels)]\n",
    "    return sum(differences) / len(differences)"
   ]
  },
  {
   "cell_type": "code",
   "execution_count": 53,
   "metadata": {},
   "outputs": [],
   "source": [
    "users = []\n",
    "books = []\n",
    "ratings = []\n",
    "for user, book, _ in readCSV(\"train_Interactions.csv.gz\"):\n",
    "    users.append(user)\n",
    "    books.append(book)\n",
    "    ratings.append(int(_))"
   ]
  },
  {
   "cell_type": "code",
   "execution_count": 54,
   "metadata": {},
   "outputs": [],
   "source": [
    "# Re-initializing data\n",
    "users_train = users[:190000]\n",
    "books_train = books[:190000]\n",
    "ratings_train = ratings[:190000]\n",
    "users_valid = users[190000:]\n",
    "books_valid = books[190000:]\n",
    "ratings_valid = ratings[190000:]"
   ]
  },
  {
   "cell_type": "code",
   "execution_count": 55,
   "metadata": {},
   "outputs": [],
   "source": [
    "training_rating = list(zip(users_train, books_train, ratings_train))\n",
    "validation_rating = list(zip(users_valid, books_valid, ratings_valid))"
   ]
  },
  {
   "cell_type": "code",
   "execution_count": 56,
   "metadata": {},
   "outputs": [],
   "source": [
    "# Forming dictionary with user and book combinations\n",
    "ratingPerCombo = {}\n",
    "usersPerBook = defaultdict(set)\n",
    "booksPerUser = defaultdict(set)\n",
    "\n",
    "for user, book,r in training_rating:\n",
    "    usersPerBook[book].add(user)\n",
    "    booksPerUser[user].add(book)\n",
    "    ratingPerCombo[(user,book)] = int(r)"
   ]
  },
  {
   "cell_type": "code",
   "execution_count": 98,
   "metadata": {},
   "outputs": [],
   "source": [
    "# Initializing user and book biases\n",
    "allRatings = []\n",
    "userRatings = defaultdict(list)\n",
    "bookRatings = defaultdict(list)\n",
    "\n",
    "for user, book, r in training_rating:\n",
    "    r = int(r)\n",
    "    allRatings.append(r)\n",
    "    userRatings[user].append(r)\n",
    "    bookRatings[book].append(r)\n",
    "\n",
    "globalAverage = sum(allRatings) / len(allRatings)\n",
    "userAverage = {}\n",
    "userBias = {}\n",
    "user_total = 0\n",
    "bookAverage = {}\n",
    "bookBias = {}\n",
    "book_total = 0\n",
    "\n",
    "\n",
    "for user in userRatings:\n",
    "    userAverage[user] = sum(userRatings[user]) / len(userRatings[user])\n",
    "    \n",
    "for user in userAverage:\n",
    "    user_total += float(userAverage[user])\n",
    "    \n",
    "for user in userAverage:\n",
    "    userBias[user] = userAverage[user] - (user_total/len(userAverage))\n",
    "\n",
    "for book in bookRatings:\n",
    "    bookAverage[book] = sum(bookRatings[book]) / len(bookRatings[book])\n",
    "    \n",
    "for book in bookAverage:\n",
    "    book_total += float(bookAverage[book])\n",
    "    \n",
    "for book in bookAverage:\n",
    "    bookBias[book] = bookAverage[book] - (book_total/len(bookAverage))\n",
    "\n",
    "# Defining alpha, bookBias, userBias by convergence from Training data and new lambda value\n",
    "lambu_reg = []\n",
    "lambb_reg = []\n",
    "MSE_val = []\n",
    "\n",
    "for i in numpy.arange(10, 20, 1):\n",
    "    lambu = 3.15\n",
    "    lambb = i\n",
    "    alpha_sum = 0\n",
    "    alpha = globalAverage\n",
    "    MSE_diff = 5\n",
    "    trial = 0\n",
    "\n",
    "    while MSE_diff > 0.00005 or trial > 1000:\n",
    "        model_predictions = []\n",
    "        alpha_sum = 0\n",
    "        for user, book, r in training_rating:\n",
    "            alpha_sum += (int(r)-(userBias[user] + bookBias[book]))\n",
    "        alpha = alpha_sum/len(training_rating)\n",
    "\n",
    "        for user in booksPerUser:\n",
    "            beta_U_Sum = 0\n",
    "            for books in booksPerUser[user]:\n",
    "                beta_U_Sum += ratingPerCombo[user,books] - (alpha + bookBias[books])\n",
    "            userBias[user] = beta_U_Sum/(lambu+ len(booksPerUser[user]))\n",
    "\n",
    "        for book in usersPerBook:\n",
    "            beta_I_Sum = 0\n",
    "            for users in usersPerBook[book]:\n",
    "                beta_I_Sum += ratingPerCombo[users,book] - (alpha + userBias[users])\n",
    "            bookBias[book] = beta_I_Sum/(lambb+ len(usersPerBook[book]))\n",
    "\n",
    "        for user, book, r in training_rating:\n",
    "            model_predictions.append(prediction(user, book))\n",
    "\n",
    "        #print('Trial #:',trial)\n",
    "\n",
    "        if trial == 0:\n",
    "            MSE_0 = 0\n",
    "\n",
    "        MSE_1 = MSE(model_predictions, ratings_train)\n",
    "\n",
    "        MSE_diff = abs(MSE_1 - MSE_0)\n",
    "\n",
    "        #if trial != 0:\n",
    "            #print('MSE_diff:', MSE_diff)\n",
    "\n",
    "        #print('MSE_old', MSE_0)\n",
    "        #print('MSE_new:', MSE_1)\n",
    "\n",
    "        MSE_0 = MSE_1\n",
    "        trial += 1 \n",
    "        # Predictions and MSE on validation data\n",
    "        \n",
    "    model_predictions = []\n",
    "    for user, book, r in validation_rating:\n",
    "        model_predictions.append(prediction(user, book))\n",
    "\n",
    "    MSE_valid = MSE(model_predictions, ratings_valid)\n",
    "    lambu_reg.append(lambu)\n",
    "    lambb_reg.append(lambb)\n",
    "    MSE_val.append(MSE_valid)"
   ]
  },
  {
   "cell_type": "code",
   "execution_count": 99,
   "metadata": {},
   "outputs": [
    {
     "name": "stdout",
     "output_type": "stream",
     "text": [
      "1.0969322553351406\n"
     ]
    }
   ],
   "source": [
    "# Predictions and MSE on validation data\n",
    "model_predictions = []\n",
    "for user, book, r in validation_rating:\n",
    "    model_predictions.append(prediction(user, book))\n",
    "\n",
    "MSE_valid = MSE(model_predictions, ratings_valid)\n",
    "print(MSE_valid)"
   ]
  },
  {
   "cell_type": "code",
   "execution_count": 100,
   "metadata": {},
   "outputs": [
    {
     "data": {
      "image/png": "[encoded data removed]",
      "text/plain": [
       "<Figure size 432x288 with 1 Axes>"
      ]
     },
     "metadata": {
      "needs_background": "light"
     },
     "output_type": "display_data"
    }
   ],
   "source": [
    "plt.plot(lambb_reg, MSE_val, 'r--')\n",
    "plt.ylabel('MSE')\n",
    "plt.xlabel('Regularization Values')\n",
    "plt.show()"
   ]
  },
  {
   "cell_type": "code",
   "execution_count": 101,
   "metadata": {},
   "outputs": [
    {
     "name": "stdout",
     "output_type": "stream",
     "text": [
      "9 19 1.0969322553351406\n"
     ]
    }
   ],
   "source": [
    "print(MSE_val.index(min(MSE_val)),lambb_reg[MSE_val.index(min(MSE_val))], min(MSE_val))"
   ]
  },
  {
   "cell_type": "code",
   "execution_count": 104,
   "metadata": {},
   "outputs": [
    {
     "name": "stdout",
     "output_type": "stream",
     "text": [
      "MSE_new: 0.9396236225065269\n",
      "MSE_new: 0.9396261877882855\n"
     ]
    }
   ],
   "source": [
    "# Defining alpha, bookBias, userBias by convergence from Training data and lambda value 1\n",
    "lambu = 3.15\n",
    "lambb = 19\n",
    "alpha_sum = 0\n",
    "alpha = globalAverage\n",
    "MSE_diff = 5\n",
    "trial = 0\n",
    "\n",
    "while MSE_diff > 0.00005 or trial > 1000:\n",
    "    model_predictions = []\n",
    "    alpha_sum = 0\n",
    "    for user, book, r in training_rating:\n",
    "        alpha_sum += (int(r)-(userBias[user] + bookBias[book]))\n",
    "    alpha = alpha_sum/len(training_rating)\n",
    "\n",
    "    for user in booksPerUser:\n",
    "        beta_U_Sum = 0\n",
    "        for books in booksPerUser[user]:\n",
    "            beta_U_Sum += ratingPerCombo[user,books] - (alpha + bookBias[books])\n",
    "        userBias[user] = beta_U_Sum/(lambu+ len(booksPerUser[user]))\n",
    "\n",
    "    for book in usersPerBook:\n",
    "        beta_I_Sum = 0\n",
    "        for users in usersPerBook[book]:\n",
    "            beta_I_Sum += ratingPerCombo[users,book] - (alpha + userBias[users])\n",
    "        bookBias[book] = beta_I_Sum/(lambb+ len(usersPerBook[book]))\n",
    "\n",
    "    for user, book, r in training_rating:\n",
    "        model_predictions.append(prediction(user, book))\n",
    "\n",
    "    #print('Trial #:',trial)\n",
    "\n",
    "    if trial == 0:\n",
    "        MSE_0 = 0\n",
    "\n",
    "    MSE_1 = MSE(model_predictions, ratings_train)\n",
    "    \n",
    "    MSE_diff = abs(MSE_1 - MSE_0)\n",
    "\n",
    "    print('MSE_new:', MSE_1)\n",
    "    \n",
    "    MSE_0 = MSE_1\n",
    "    trial += 1 "
   ]
  },
  {
   "cell_type": "code",
   "execution_count": 105,
   "metadata": {},
   "outputs": [
    {
     "name": "stdout",
     "output_type": "stream",
     "text": [
      "1.0969550335563314\n"
     ]
    }
   ],
   "source": [
    "# Predictions and MSE on validation data\n",
    "model_predictions = []\n",
    "for user, book, r in validation_rating:\n",
    "    model_predictions.append(prediction(user, book))\n",
    "\n",
    "MSE_valid = MSE(model_predictions, ratings_valid)\n",
    "print(MSE_valid)"
   ]
  },
  {
   "cell_type": "markdown",
   "metadata": {},
   "source": [
    "#### Using previous lambda now use all the data available"
   ]
  },
  {
   "cell_type": "code",
   "execution_count": 113,
   "metadata": {},
   "outputs": [],
   "source": [
    "users = []\n",
    "books = []\n",
    "ratings = []\n",
    "for user, book, _ in readCSV(\"train_Interactions.csv.gz\"):\n",
    "    users.append(user)\n",
    "    books.append(book)\n",
    "    ratings.append(int(_))"
   ]
  },
  {
   "cell_type": "code",
   "execution_count": 114,
   "metadata": {},
   "outputs": [],
   "source": [
    "all_ratings = list(zip(users, books, ratings))"
   ]
  },
  {
   "cell_type": "code",
   "execution_count": 115,
   "metadata": {},
   "outputs": [],
   "source": [
    "# Forming dictionary with user and book combinations\n",
    "ratingPerCombo = {}\n",
    "usersPerBook = defaultdict(set)\n",
    "booksPerUser = defaultdict(set)\n",
    "\n",
    "for user, book,r in all_ratings:\n",
    "    usersPerBook[book].add(user)\n",
    "    booksPerUser[user].add(book)\n",
    "    ratingPerCombo[(user,book)] = int(r)"
   ]
  },
  {
   "cell_type": "code",
   "execution_count": 116,
   "metadata": {},
   "outputs": [],
   "source": [
    "# Initializing all user ratings and all books dictionaries\n",
    "totalRatings = []\n",
    "userRatings = defaultdict(list)\n",
    "bookRatings = defaultdict(list)\n",
    "\n",
    "# All ratings for each user and each book\n",
    "for user, book, r in all_ratings:\n",
    "    r = int(r)\n",
    "    totalRatings.append(r)\n",
    "    userRatings[user].append(r)\n",
    "    bookRatings[book].append(r)\n",
    "\n",
    "globalAverage = sum(totalRatings) / len(totalRatings)\n",
    "userAverage = {}\n",
    "userBias = {}\n",
    "user_total = 0\n",
    "bookAverage = {}\n",
    "bookBias = {}\n",
    "book_total = 0\n",
    "\n",
    "# Initializing user and book biases\n",
    "for user in userRatings:\n",
    "    userAverage[user] = sum(userRatings[user]) / len(userRatings[user])\n",
    "    \n",
    "for user in userAverage:\n",
    "    user_total += float(userAverage[user])\n",
    "    \n",
    "for user in userAverage:\n",
    "    userBias[user] = userAverage[user] - (user_total/len(userAverage))\n",
    "\n",
    "for book in bookRatings:\n",
    "    bookAverage[book] = sum(bookRatings[book]) / len(bookRatings[book])\n",
    "    \n",
    "for book in bookAverage:\n",
    "    book_total += float(bookAverage[book])\n",
    "    \n",
    "for book in bookAverage:\n",
    "    bookBias[book] = bookAverage[book] - (book_total/len(bookAverage))"
   ]
  },
  {
   "cell_type": "code",
   "execution_count": 118,
   "metadata": {},
   "outputs": [
    {
     "name": "stdout",
     "output_type": "stream",
     "text": [
      "MSE_new: 0.9425510508756552\n",
      "MSE_new: 0.9422581612771731\n",
      "MSE_new: 0.9422460492913629\n"
     ]
    }
   ],
   "source": [
    "# Defining alpha, bookBias, userBias by convergence from Training data and lambda value 1\n",
    "lambu = 3.15\n",
    "lambb = 19\n",
    "alpha_sum = 0\n",
    "alpha = globalAverage\n",
    "MSE_diff = 5\n",
    "trial = 0\n",
    "\n",
    "while MSE_diff > 0.00005 or trial > 1000:\n",
    "    model_predictions = []\n",
    "    actual_rating = []\n",
    "    alpha_sum = 0\n",
    "    \n",
    "    for user, book, r in all_ratings:\n",
    "        alpha_sum += (int(r)-(userBias[user] + bookBias[book]))\n",
    "    alpha = alpha_sum/len(all_ratings)\n",
    "\n",
    "    for user in booksPerUser:\n",
    "        beta_U_Sum = 0\n",
    "        for books in booksPerUser[user]:\n",
    "            beta_U_Sum += ratingPerCombo[user,books] - (alpha + bookBias[books])\n",
    "        userBias[user] = beta_U_Sum/(lambu+ len(booksPerUser[user]))\n",
    "\n",
    "    for book in usersPerBook:\n",
    "        beta_I_Sum = 0\n",
    "        for users in usersPerBook[book]:\n",
    "            beta_I_Sum += ratingPerCombo[users,book] - (alpha + userBias[users])\n",
    "        bookBias[book] = beta_I_Sum/(lambb+ len(usersPerBook[book]))\n",
    "\n",
    "    for user, book, r in all_ratings:\n",
    "        model_predictions.append(prediction(user, book))\n",
    "        actual_rating.append(r)\n",
    "\n",
    "    if trial == 0:\n",
    "        MSE_0 = 0\n",
    "\n",
    "    MSE_1 = MSE(model_predictions, actual_rating)\n",
    "    \n",
    "    MSE_diff = abs(MSE_1 - MSE_0)\n",
    "\n",
    "    print('MSE_new:', MSE_1)\n",
    "    \n",
    "    MSE_0 = MSE_1\n",
    "    trial += 1 "
   ]
  },
  {
   "cell_type": "code",
   "execution_count": 119,
   "metadata": {},
   "outputs": [
    {
     "name": "stdout",
     "output_type": "stream",
     "text": [
      "MSE on validation set: 0.9503954028066152\n"
     ]
    }
   ],
   "source": [
    "# Predictions and MSE on validation data\n",
    "model_predictions = []\n",
    "for user, book, r in validation_rating:\n",
    "    model_predictions.append(prediction(user, book))\n",
    "\n",
    "MSE_valid = MSE(model_predictions, ratings_valid)\n",
    "print('MSE on validation set:',MSE_valid)"
   ]
  },
  {
   "cell_type": "code",
   "execution_count": 120,
   "metadata": {},
   "outputs": [],
   "source": [
    "# Writing predictions of test set to file\n",
    "predictions = open(\"predictions_Rating_Assignment1_v4.0.txt\", \"w\")\n",
    "for l in open(\"pairs_Rating.txt\"):\n",
    "    if l.startswith(\"userID\"):\n",
    "        # header\n",
    "        predictions.write(l)\n",
    "        continue\n",
    "    u, b = l.strip().split(\"-\")\n",
    "    \n",
    "    predictions.write(u + \"-\" + b + \",\" + str(prediction(u,b)) + \"\\n\")\n",
    "\n",
    "predictions.close()"
   ]
  },
  {
   "cell_type": "markdown",
   "metadata": {},
   "source": [
    "**Kaggle Username: tobycheng or Toby Cheng**"
   ]
  },
  {
   "cell_type": "markdown",
   "metadata": {},
   "source": [
    "**Kaggle Rating MSE: 1.13134**"
   ]
  }
 ],
 "metadata": {
  "kernelspec": {
   "display_name": "Python 3",
   "language": "python",
   "name": "python3"
  },
  "language_info": {
   "codemirror_mode": {
    "name": "ipython",
    "version": 3
   },
   "file_extension": ".py",
   "mimetype": "text/x-python",
   "name": "python",
   "nbconvert_exporter": "python",
   "pygments_lexer": "ipython3",
   "version": "3.6.8"
  }
 },
 "nbformat": 4,
 "nbformat_minor": 4
}
