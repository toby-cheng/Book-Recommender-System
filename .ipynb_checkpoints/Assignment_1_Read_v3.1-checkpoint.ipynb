{
 "cells": [
  {
   "cell_type": "markdown",
   "metadata": {},
   "source": [
    "# CSE 258 Assignment 1 Read\n",
    "**Ming Ki Toby Cheng**"
   ]
  },
  {
   "cell_type": "code",
   "execution_count": 1,
   "metadata": {},
   "outputs": [],
   "source": [
    "import gzip\n",
    "from collections import defaultdict\n",
    "import scipy\n",
    "import scipy.optimize\n",
    "from sklearn import linear_model\n",
    "import numpy\n",
    "import random\n",
    "\n",
    "import matplotlib.pyplot as plt"
   ]
  },
  {
   "cell_type": "code",
   "execution_count": 2,
   "metadata": {},
   "outputs": [],
   "source": [
    "def readGz(path):\n",
    "    for l in gzip.open(path, \"rt\"):\n",
    "        yield eval(l)\n",
    "\n",
    "\n",
    "def readCSV(path):\n",
    "    f = gzip.open(path, \"rt\")\n",
    "    f.readline()\n",
    "    for l in f:\n",
    "        yield l.strip().split(\",\")"
   ]
  },
  {
   "cell_type": "code",
   "execution_count": 3,
   "metadata": {},
   "outputs": [],
   "source": [
    "users = []\n",
    "books = []\n",
    "ratings = []"
   ]
  },
  {
   "cell_type": "code",
   "execution_count": 4,
   "metadata": {},
   "outputs": [],
   "source": [
    "for user, book, _ in readCSV(\"train_Interactions.csv.gz\"):\n",
    "    users.append(user)\n",
    "    books.append(book)\n",
    "    ratings.append(_)"
   ]
  },
  {
   "cell_type": "code",
   "execution_count": 5,
   "metadata": {},
   "outputs": [],
   "source": [
    "all_data = list(zip(users, books, ratings))"
   ]
  },
  {
   "cell_type": "code",
   "execution_count": 6,
   "metadata": {},
   "outputs": [],
   "source": [
    "userCount = defaultdict(set)\n",
    "allBooks = set()\n",
    "\n",
    "for user, book, _ in readCSV(\"train_Interactions.csv.gz\"):\n",
    "    userCount[user].add(book)\n",
    "    allBooks.add(book)"
   ]
  },
  {
   "cell_type": "code",
   "execution_count": 8,
   "metadata": {},
   "outputs": [],
   "source": [
    "# Defining sets for users and books\n",
    "usersPerBook = defaultdict(set)\n",
    "booksPerUser = defaultdict(set)\n",
    "for user, book,_ in all_data:\n",
    "    usersPerBook[book].add(user)\n",
    "    booksPerUser[user].add(book)"
   ]
  },
  {
   "cell_type": "code",
   "execution_count": 10,
   "metadata": {},
   "outputs": [],
   "source": [
    "bookCount = defaultdict(int)\n",
    "totalRead = 0\n",
    "\n",
    "for user, book,_ in all_data:\n",
    "    bookCount[book] += 1\n",
    "    totalRead += 1"
   ]
  },
  {
   "cell_type": "code",
   "execution_count": 11,
   "metadata": {},
   "outputs": [],
   "source": [
    "mostPopular = [(bookCount[x], x) for x in bookCount]\n",
    "mostPopular.sort()\n",
    "mostPopular.reverse()"
   ]
  },
  {
   "cell_type": "code",
   "execution_count": 12,
   "metadata": {},
   "outputs": [],
   "source": [
    "# Defining Jaccard similarity function\n",
    "def Jaccard(s1, s2):\n",
    "    numer = len(s1.intersection(s2))\n",
    "    denom = len(s1.union(s2))\n",
    "    return (numer / denom)"
   ]
  },
  {
   "cell_type": "code",
   "execution_count": 31,
   "metadata": {},
   "outputs": [],
   "source": [
    "def predictionJaccard(u, b):\n",
    "    similarities = []\n",
    "    books = booksPerUser[u]\n",
    "    users = usersPerBook[b]\n",
    "    for book in books:\n",
    "        users_other = usersPerBook[book]\n",
    "        sim = Jaccard(users, users_other)\n",
    "        similarities.append((sim))\n",
    "    similarities.sort(reverse = True)\n",
    "    return(numpy.mean(similarities))"
   ]
  },
  {
   "cell_type": "code",
   "execution_count": 14,
   "metadata": {},
   "outputs": [],
   "source": [
    "# Defining Cosine similarity function\n",
    "def Cosine(s1, s2):\n",
    "    numer = len(s1.intersection(s2))\n",
    "    denom = len(s1) * len(s2)\n",
    "    if denom == 0:\n",
    "        return(0)\n",
    "    else:\n",
    "        return(numer / denom)"
   ]
  },
  {
   "cell_type": "code",
   "execution_count": 15,
   "metadata": {},
   "outputs": [],
   "source": [
    "# Defining separate Cosine Prediction function\n",
    "def predictionCosine(u, b):\n",
    "    cos_sim = []\n",
    "    books = booksPerUser[u]\n",
    "    users = usersPerBook[b]\n",
    "    for book in books:\n",
    "        users_other = usersPerBook[book]\n",
    "        csim = Cosine(users, users_other)\n",
    "        cos_sim.append((csim, book))\n",
    "        \n",
    "    cos_sim.sort(reverse = True)\n",
    "\n",
    "    return(cos_sim[0][0])"
   ]
  },
  {
   "cell_type": "code",
   "execution_count": 34,
   "metadata": {},
   "outputs": [],
   "source": [
    "# Defining sets for users and books\n",
    "usersPerBook_test = defaultdict(set)\n",
    "booksPerUser_test = defaultdict(set)\n",
    "readPerPair_test = defaultdict(int)\n",
    "for l in open(\"pairs_Read.txt\"):\n",
    "    if l.startswith(\"userID\"):\n",
    "        # header\n",
    "        continue\n",
    "    u, b = l.strip().split(\"-\")\n",
    "    usersPerBook_test[b].add(u)\n",
    "    booksPerUser_test[u].add(b)\n",
    "    \n",
    "jaccard_user_test = defaultdict(dict)\n",
    "for i in booksPerUser_test:\n",
    "    books = booksPerUser_test[i]\n",
    "    for books in booksPerUser_test[i]:\n",
    "        jaccard_user_test[i][books] = (predictionJaccard(i, books)*bookCount[books])   "
   ]
  },
  {
   "cell_type": "code",
   "execution_count": 35,
   "metadata": {},
   "outputs": [],
   "source": [
    "for i in jaccard_user_test:\n",
    "    jaccard_user_test[i] = sorted(jaccard_user_test[i].items(), key=lambda x:x[1])"
   ]
  },
  {
   "cell_type": "code",
   "execution_count": 36,
   "metadata": {},
   "outputs": [],
   "source": [
    "readPerPair_test = defaultdict(int)\n",
    "for i in jaccard_user_test:\n",
    "    num = len(jaccard_user_test[i])\n",
    "    unread = jaccard_user_test[i][:num//2]\n",
    "    read = jaccard_user_test[i][num//2:]\n",
    "    for pair in read:\n",
    "        readPerPair_test[i,pair[0]] = 1\n",
    "    for pair2 in unread:\n",
    "        readPerPair_test[i,pair2[0]] = 0"
   ]
  },
  {
   "cell_type": "code",
   "execution_count": 37,
   "metadata": {},
   "outputs": [],
   "source": [
    "# Writing predictions of test set to file\n",
    "predictions = open(\"predictions_Read_Assignment1_v3.1.txt\", \"w\")\n",
    "for l in open(\"pairs_Read.txt\"):\n",
    "    if l.startswith(\"userID\"):\n",
    "        # header\n",
    "        predictions.write(l)\n",
    "        continue\n",
    "    u, b = l.strip().split(\"-\")\n",
    "    if readPerPair_test[u,b] == 1:\n",
    "        predictions.write(u + \"-\" + b + \",1\\n\")\n",
    "    else:\n",
    "        predictions.write(u + \"-\" + b + \",0\\n\")\n",
    "\n",
    "predictions.close()"
   ]
  },
  {
   "cell_type": "markdown",
   "metadata": {},
   "source": [
    "**Kaggle Username: tobycheng or Toby Cheng**"
   ]
  },
  {
   "cell_type": "markdown",
   "metadata": {},
   "source": [
    "**Kaggle Read Accuracy: 0.74050**"
   ]
  },
  {
   "cell_type": "markdown",
   "metadata": {},
   "source": [
    "  "
   ]
  }
 ],
 "metadata": {
  "kernelspec": {
   "display_name": "Python 3",
   "language": "python",
   "name": "python3"
  },
  "language_info": {
   "codemirror_mode": {
    "name": "ipython",
    "version": 3
   },
   "file_extension": ".py",
   "mimetype": "text/x-python",
   "name": "python",
   "nbconvert_exporter": "python",
   "pygments_lexer": "ipython3",
   "version": "3.6.8"
  }
 },
 "nbformat": 4,
 "nbformat_minor": 4
}
