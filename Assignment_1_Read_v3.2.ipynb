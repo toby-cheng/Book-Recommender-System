{
 "cells": [
  {
   "cell_type": "markdown",
   "metadata": {},
   "source": [
    "# CSE 258 Assignment 1 Read\n",
    "**Ming Ki Toby Cheng**"
   ]
  },
  {
   "cell_type": "code",
   "execution_count": 1,
   "metadata": {},
   "outputs": [],
   "source": [
    "import gzip\n",
    "from collections import defaultdict\n",
    "import scipy\n",
    "import scipy.optimize\n",
    "from sklearn import linear_model\n",
    "import numpy\n",
    "import random\n",
    "import matplotlib.pyplot as plt"
   ]
  },
  {
   "cell_type": "code",
   "execution_count": 2,
   "metadata": {},
   "outputs": [],
   "source": [
    "def readGz(path):\n",
    "    for l in gzip.open(path, \"rt\"):\n",
    "        yield eval(l)\n",
    "\n",
    "\n",
    "def readCSV(path):\n",
    "    f = gzip.open(path, \"rt\")\n",
    "    f.readline()\n",
    "    for l in f:\n",
    "        yield l.strip().split(\",\")"
   ]
  },
  {
   "cell_type": "code",
   "execution_count": 3,
   "metadata": {},
   "outputs": [],
   "source": [
    "users = []\n",
    "books = []\n",
    "ratings = []"
   ]
  },
  {
   "cell_type": "code",
   "execution_count": 4,
   "metadata": {},
   "outputs": [],
   "source": [
    "for user, book, _ in readCSV(\"train_Interactions.csv.gz\"):\n",
    "    users.append(user)\n",
    "    books.append(book)\n",
    "    ratings.append(_)"
   ]
  },
  {
   "cell_type": "code",
   "execution_count": 5,
   "metadata": {},
   "outputs": [],
   "source": [
    "#Splitting data into training and validation\n",
    "users_train = users[:190000]\n",
    "books_train = books[:190000]\n",
    "ratings_train = ratings[:190000]\n",
    "users_valid = users[190000:]\n",
    "books_valid = books[190000:]\n",
    "ratings_valid = ratings[190000:]\n",
    "training_set = list(zip(users_train, books_train))"
   ]
  },
  {
   "cell_type": "code",
   "execution_count": 6,
   "metadata": {},
   "outputs": [],
   "source": [
    "userCount = defaultdict(set)\n",
    "allBooks = set()\n",
    "\n",
    "for user, book, _ in readCSV(\"train_Interactions.csv.gz\"):\n",
    "    userCount[user].add(book)\n",
    "    allBooks.add(book)"
   ]
  },
  {
   "cell_type": "code",
   "execution_count": 7,
   "metadata": {},
   "outputs": [],
   "source": [
    "# Defining sets for users and books\n",
    "usersPerBook = defaultdict(set)\n",
    "booksPerUser = defaultdict(set)\n",
    "for user, book in training_set:\n",
    "    usersPerBook[book].add(user)\n",
    "    booksPerUser[user].add(book)"
   ]
  },
  {
   "cell_type": "code",
   "execution_count": 8,
   "metadata": {},
   "outputs": [],
   "source": [
    "users_valid_new = users_valid[:]\n",
    "books_valid_new = books_valid[:]\n",
    "read_valid = [1] * len(users_valid)\n",
    "read_valid_new = read_valid[:]"
   ]
  },
  {
   "cell_type": "code",
   "execution_count": 9,
   "metadata": {},
   "outputs": [],
   "source": [
    "# Generating negative entries for validations randomly\n",
    "random.seed(1583)\n",
    "\n",
    "for users in users_valid:\n",
    "    unread_books = allBooks.difference(userCount[users])\n",
    "    unread_books_list = list(unread_books)\n",
    "    A = unread_books_list[random.randint(0, len(unread_books_list) - 1)]\n",
    "    users_valid_new.append(users)\n",
    "    books_valid_new.append(A)\n",
    "    read_valid_new.append(0)"
   ]
  },
  {
   "cell_type": "code",
   "execution_count": 10,
   "metadata": {},
   "outputs": [],
   "source": [
    "validation_set = list(zip(users_valid_new, books_valid_new, read_valid_new))\n",
    "# Shuffling validation data\n",
    "random.seed(1234)\n",
    "random.shuffle(validation_set)"
   ]
  },
  {
   "cell_type": "code",
   "execution_count": 11,
   "metadata": {},
   "outputs": [],
   "source": [
    "# Defining sets for users and books\n",
    "usersPerBook_val = defaultdict(set)\n",
    "booksPerUser_val = defaultdict(set)\n",
    "readPerPair_true = defaultdict(int)\n",
    "for user, book,read in validation_set:\n",
    "    usersPerBook_val[book].add(user)\n",
    "    booksPerUser_val[user].add(book)\n",
    "    readPerPair_true[user,book] = read"
   ]
  },
  {
   "cell_type": "code",
   "execution_count": null,
   "metadata": {},
   "outputs": [],
   "source": []
  },
  {
   "cell_type": "code",
   "execution_count": 12,
   "metadata": {},
   "outputs": [],
   "source": [
    "bookCount = defaultdict(int)\n",
    "totalRead = 0\n",
    "\n",
    "for user, book in training_set:\n",
    "    bookCount[book] += 1\n",
    "    totalRead += 1"
   ]
  },
  {
   "cell_type": "code",
   "execution_count": 13,
   "metadata": {},
   "outputs": [],
   "source": [
    "mostPopular = [(bookCount[x], x) for x in bookCount]\n",
    "mostPopular.sort()\n",
    "mostPopular.reverse()"
   ]
  },
  {
   "cell_type": "code",
   "execution_count": null,
   "metadata": {},
   "outputs": [],
   "source": []
  },
  {
   "cell_type": "code",
   "execution_count": 14,
   "metadata": {},
   "outputs": [],
   "source": [
    "# Defining Jaccard similarity function\n",
    "def Jaccard(s1, s2):\n",
    "    numer = len(s1.intersection(s2))\n",
    "    denom = len(s1.union(s2))\n",
    "    return (numer / denom)"
   ]
  },
  {
   "cell_type": "code",
   "execution_count": 27,
   "metadata": {},
   "outputs": [],
   "source": [
    "def predictionJaccard(u, b):\n",
    "    similarities = []\n",
    "    books = booksPerUser[u]\n",
    "    users = usersPerBook[b]\n",
    "    for book in books:\n",
    "        users_other = usersPerBook[book]\n",
    "        sim = Jaccard(users, users_other)\n",
    "        similarities.append((sim))\n",
    "    similarities.sort(reverse = True)\n",
    "    return(numpy.mean(similarities))"
   ]
  },
  {
   "cell_type": "code",
   "execution_count": 28,
   "metadata": {},
   "outputs": [],
   "source": [
    "jaccard_user_val = defaultdict(dict)\n",
    "for i in booksPerUser_val:\n",
    "    books = booksPerUser_val[i]\n",
    "    for books in booksPerUser_val[i]:\n",
    "        jaccard_user_val[i][books] = (predictionJaccard(i, books)*bookCount[books])"
   ]
  },
  {
   "cell_type": "code",
   "execution_count": 29,
   "metadata": {},
   "outputs": [],
   "source": [
    "for i in jaccard_user_val:\n",
    "    jaccard_user_val[i] = sorted(jaccard_user_val[i].items(), key=lambda x:x[1])"
   ]
  },
  {
   "cell_type": "code",
   "execution_count": 30,
   "metadata": {},
   "outputs": [],
   "source": [
    "readPerPair_predict = defaultdict(int)"
   ]
  },
  {
   "cell_type": "code",
   "execution_count": 31,
   "metadata": {},
   "outputs": [],
   "source": [
    "for i in jaccard_user_val:\n",
    "    num = len(jaccard_user_val[i])\n",
    "    unread = jaccard_user_val[i][:num//2]\n",
    "    read = jaccard_user_val[i][num//2:]\n",
    "    for pair in read:\n",
    "        readPerPair_predict[i,pair[0]] = 1\n",
    "    for pair2 in unread:\n",
    "        readPerPair_predict[i,pair2[0]] = 0"
   ]
  },
  {
   "cell_type": "code",
   "execution_count": 32,
   "metadata": {},
   "outputs": [
    {
     "name": "stdout",
     "output_type": "stream",
     "text": [
      "Accuracy on validation set: 0.718\n",
      "BER on validation set: 0.28200000000000003\n"
     ]
    }
   ],
   "source": [
    "# Predictions, accuracy and BER based on combination of new popularity and Jaccard functions\n",
    "predictions = []\n",
    "y_valid = []\n",
    "\n",
    "for users, books, read in validation_set:\n",
    "    y_valid.append(read)\n",
    "    predictions.append(readPerPair_predict[users,books])\n",
    "\n",
    "TP_valid = sum([(p and l) for (p, l) in zip(predictions, y_valid)])\n",
    "FP_valid = sum([(p and not l) for (p, l) in zip(predictions, y_valid)])\n",
    "TN_valid = sum([(not p and not l) for (p, l) in zip(predictions, y_valid)])\n",
    "FN_valid = sum([(not p and l) for (p, l) in zip(predictions, y_valid)])\n",
    "accu_valid = (TP_valid + TN_valid) / (TP_valid + FP_valid + TN_valid + FN_valid)\n",
    "\n",
    "TPR_valid = TP_valid / (TP_valid + FN_valid)\n",
    "TNR_valid = TN_valid / (TN_valid + FP_valid)\n",
    "BER_valid = 1 - 0.5 * (TPR_valid + TNR_valid)\n",
    "\n",
    "## Accuracy and BER of Model on Set\n",
    "print(\"Accuracy on validation set:\", accu_valid)\n",
    "print(\"BER on validation set:\", BER_valid)"
   ]
  },
  {
   "cell_type": "code",
   "execution_count": 33,
   "metadata": {},
   "outputs": [],
   "source": [
    "# Defining sets for users and books\n",
    "usersPerBook_test = defaultdict(set)\n",
    "booksPerUser_test = defaultdict(set)\n",
    "readPerPair_test = defaultdict(int)\n",
    "for l in open(\"pairs_Read.txt\"):\n",
    "    if l.startswith(\"userID\"):\n",
    "        # header\n",
    "        continue\n",
    "    u, b = l.strip().split(\"-\")\n",
    "    usersPerBook_test[b].add(u)\n",
    "    booksPerUser_test[u].add(b)\n",
    "    \n",
    "jaccard_user_test = defaultdict(dict)\n",
    "for i in booksPerUser_test:\n",
    "    books = booksPerUser_test[i]\n",
    "    for books in booksPerUser_test[i]:\n",
    "        jaccard_user_test[i][books] = (predictionJaccard(i, books)*bookCount[books])   "
   ]
  },
  {
   "cell_type": "code",
   "execution_count": 34,
   "metadata": {},
   "outputs": [],
   "source": [
    "for i in jaccard_user_test:\n",
    "    jaccard_user_test[i] = sorted(jaccard_user_test[i].items(), key=lambda x:x[1])"
   ]
  },
  {
   "cell_type": "code",
   "execution_count": null,
   "metadata": {},
   "outputs": [],
   "source": []
  },
  {
   "cell_type": "code",
   "execution_count": 35,
   "metadata": {},
   "outputs": [],
   "source": [
    "readPerPair_test = defaultdict(int)\n",
    "for i in jaccard_user_test:\n",
    "    num = len(jaccard_user_test[i])\n",
    "    unread = jaccard_user_test[i][:num//2]\n",
    "    read = jaccard_user_test[i][num//2:]\n",
    "    for pair in read:\n",
    "        readPerPair_test[i,pair[0]] = 1\n",
    "    for pair2 in unread:\n",
    "        readPerPair_test[i,pair2[0]] = 0"
   ]
  },
  {
   "cell_type": "code",
   "execution_count": null,
   "metadata": {},
   "outputs": [],
   "source": []
  },
  {
   "cell_type": "code",
   "execution_count": 36,
   "metadata": {},
   "outputs": [],
   "source": [
    "# Writing predictions of test set to file\n",
    "predictions = open(\"predictions_Read_Assignment1v3.2.txt\", \"w\")\n",
    "for l in open(\"pairs_Read.txt\"):\n",
    "    if l.startswith(\"userID\"):\n",
    "        # header\n",
    "        predictions.write(l)\n",
    "        continue\n",
    "    u, b = l.strip().split(\"-\")\n",
    "    if readPerPair_test[u,b] == 1:\n",
    "        predictions.write(u + \"-\" + b + \",1\\n\")\n",
    "    else:\n",
    "        predictions.write(u + \"-\" + b + \",0\\n\")\n",
    "\n",
    "predictions.close()"
   ]
  },
  {
   "cell_type": "markdown",
   "metadata": {},
   "source": [
    "**Kaggle Username: tobycheng or Toby Cheng**"
   ]
  },
  {
   "cell_type": "markdown",
   "metadata": {},
   "source": [
    "**Kaggle Read Accuracy: 0.72516**"
   ]
  },
  {
   "cell_type": "markdown",
   "metadata": {},
   "source": [
    "  "
   ]
  }
 ],
 "metadata": {
  "kernelspec": {
   "display_name": "Python 3",
   "language": "python",
   "name": "python3"
  },
  "language_info": {
   "codemirror_mode": {
    "name": "ipython",
    "version": 3
   },
   "file_extension": ".py",
   "mimetype": "text/x-python",
   "name": "python",
   "nbconvert_exporter": "python",
   "pygments_lexer": "ipython3",
   "version": "3.6.8"
  }
 },
 "nbformat": 4,
 "nbformat_minor": 4
}
